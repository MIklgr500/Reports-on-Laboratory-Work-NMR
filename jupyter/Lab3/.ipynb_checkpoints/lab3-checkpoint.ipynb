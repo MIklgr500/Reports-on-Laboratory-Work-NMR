{
 "cells": [
  {
   "cell_type": "markdown",
   "metadata": {},
   "source": [
    "## <center> Лабораторная работа №3 \n",
    "## <center> Изучение явления ЯМР в движущихся жидкостях"
   ]
  },
  {
   "cell_type": "code",
   "execution_count": 19,
   "metadata": {},
   "outputs": [],
   "source": [
    "import numpy as np\n",
    "import math\n",
    "from scipy.interpolate import interp1d\n",
    "import pandas as pd\n",
    "import matplotlib.pyplot as plt\n",
    "%matplotlib inline"
   ]
  },
  {
   "cell_type": "markdown",
   "metadata": {},
   "source": [
    "### <center> Данные"
   ]
  },
  {
   "cell_type": "code",
   "execution_count": 12,
   "metadata": {},
   "outputs": [],
   "source": [
    "#V:ml/s\n",
    "I_dict = {\n",
    "    1.8:500/9.16,\n",
    "    2.0:500/9.80,\n",
    "    2.2:500/10.70,\n",
    "    2.4:500/12.00,\n",
    "    2.6:500/14.20,\n",
    "    2.8:500/16.51,\n",
    "    3.0:500/21.45,\n",
    "    2.8:500/38.58,\n",
    "    2.0:500/63.44,\n",
    "    1.4:500/79.76\n",
    "}"
   ]
  },
  {
   "cell_type": "code",
   "execution_count": 13,
   "metadata": {},
   "outputs": [
    {
     "data": {
      "text/html": [
       "<div>\n",
       "<style>\n",
       "    .dataframe thead tr:only-child th {\n",
       "        text-align: right;\n",
       "    }\n",
       "\n",
       "    .dataframe thead th {\n",
       "        text-align: left;\n",
       "    }\n",
       "\n",
       "    .dataframe tbody tr th {\n",
       "        vertical-align: top;\n",
       "    }\n",
       "</style>\n",
       "<table border=\"1\" class=\"dataframe\">\n",
       "  <thead>\n",
       "    <tr style=\"text-align: right;\">\n",
       "      <th></th>\n",
       "      <th>Расход</th>\n",
       "    </tr>\n",
       "  </thead>\n",
       "  <tbody>\n",
       "    <tr>\n",
       "      <th>1.8</th>\n",
       "      <td>54.585153</td>\n",
       "    </tr>\n",
       "    <tr>\n",
       "      <th>2.0</th>\n",
       "      <td>7.881463</td>\n",
       "    </tr>\n",
       "    <tr>\n",
       "      <th>3.0</th>\n",
       "      <td>23.310023</td>\n",
       "    </tr>\n",
       "    <tr>\n",
       "      <th>1.4</th>\n",
       "      <td>6.268806</td>\n",
       "    </tr>\n",
       "    <tr>\n",
       "      <th>2.6</th>\n",
       "      <td>35.211268</td>\n",
       "    </tr>\n",
       "    <tr>\n",
       "      <th>2.8</th>\n",
       "      <td>12.960083</td>\n",
       "    </tr>\n",
       "    <tr>\n",
       "      <th>2.2</th>\n",
       "      <td>46.728972</td>\n",
       "    </tr>\n",
       "    <tr>\n",
       "      <th>2.4</th>\n",
       "      <td>41.666667</td>\n",
       "    </tr>\n",
       "  </tbody>\n",
       "</table>\n",
       "</div>"
      ],
      "text/plain": [
       "        Расход\n",
       "1.8  54.585153\n",
       "2.0   7.881463\n",
       "3.0  23.310023\n",
       "1.4   6.268806\n",
       "2.6  35.211268\n",
       "2.8  12.960083\n",
       "2.2  46.728972\n",
       "2.4  41.666667"
      ]
     },
     "execution_count": 13,
     "metadata": {},
     "output_type": "execute_result"
    }
   ],
   "source": [
    "index = []\n",
    "data =[]\n",
    "for i in I_dict:\n",
    "    index.append(i)\n",
    "    data.append(I_dict[i])\n",
    "df1 = pd.DataFrame(data, columns=['Расход'], index=index)\n",
    "df1"
   ]
  },
  {
   "cell_type": "code",
   "execution_count": 4,
   "metadata": {},
   "outputs": [],
   "source": [
    "#[Vnut, Vsc]\n",
    "II_dict = {\n",
    "    '1.8':[[0, 5, 10, 15, 20, 25],[1.8, 1.4, 1.0, 0.6, 0.0, -0.6]],\n",
    "    '2.4':[[0, 5, 10, 15, 20 ,25],[2.4, 1.8, 1.0, 0.0, -0.8, -1.2]],\n",
    "    '2.8':[[0, 5, 10, 15 ,20, 25],[2.8, 1.2, -0.8, -1.8, -2.2, -2.4]]\n",
    "}"
   ]
  },
  {
   "cell_type": "code",
   "execution_count": 18,
   "metadata": {},
   "outputs": [
    {
     "data": {
      "text/html": [
       "<div>\n",
       "<style>\n",
       "    .dataframe thead tr:only-child th {\n",
       "        text-align: right;\n",
       "    }\n",
       "\n",
       "    .dataframe thead th {\n",
       "        text-align: left;\n",
       "    }\n",
       "\n",
       "    .dataframe tbody tr th {\n",
       "        vertical-align: top;\n",
       "    }\n",
       "</style>\n",
       "<table border=\"1\" class=\"dataframe\">\n",
       "  <thead>\n",
       "    <tr style=\"text-align: right;\">\n",
       "      <th></th>\n",
       "      <th>12, мл/с</th>\n",
       "      <th>41, мл/с</th>\n",
       "      <th>54, мл/с</th>\n",
       "    </tr>\n",
       "  </thead>\n",
       "  <tbody>\n",
       "    <tr>\n",
       "      <th>0</th>\n",
       "      <td>2.8</td>\n",
       "      <td>2.4</td>\n",
       "      <td>1.8</td>\n",
       "    </tr>\n",
       "    <tr>\n",
       "      <th>5</th>\n",
       "      <td>1.2</td>\n",
       "      <td>1.8</td>\n",
       "      <td>1.4</td>\n",
       "    </tr>\n",
       "    <tr>\n",
       "      <th>10</th>\n",
       "      <td>-0.8</td>\n",
       "      <td>1.0</td>\n",
       "      <td>1.0</td>\n",
       "    </tr>\n",
       "    <tr>\n",
       "      <th>15</th>\n",
       "      <td>-1.8</td>\n",
       "      <td>0.0</td>\n",
       "      <td>0.6</td>\n",
       "    </tr>\n",
       "    <tr>\n",
       "      <th>20</th>\n",
       "      <td>-2.2</td>\n",
       "      <td>-0.8</td>\n",
       "      <td>0.0</td>\n",
       "    </tr>\n",
       "    <tr>\n",
       "      <th>25</th>\n",
       "      <td>-2.4</td>\n",
       "      <td>-1.2</td>\n",
       "      <td>-0.6</td>\n",
       "    </tr>\n",
       "  </tbody>\n",
       "</table>\n",
       "</div>"
      ],
      "text/plain": [
       "    12, мл/с  41, мл/с  54, мл/с\n",
       "0        2.8       2.4       1.8\n",
       "5        1.2       1.8       1.4\n",
       "10      -0.8       1.0       1.0\n",
       "15      -1.8       0.0       0.6\n",
       "20      -2.2      -0.8       0.0\n",
       "25      -2.4      -1.2      -0.6"
      ]
     },
     "execution_count": 18,
     "metadata": {},
     "output_type": "execute_result"
    }
   ],
   "source": [
    "df2 = {}\n",
    "for i in II_dict:\n",
    "    df2[str(int(I_dict[float(i)]))+', мл/с']= II_dict[i][1]\n",
    "\n",
    "df2 = pd.DataFrame(df2, index=[0, 5, 10, 15, 20, 25])\n",
    "df2"
   ]
  },
  {
   "cell_type": "code",
   "execution_count": 33,
   "metadata": {},
   "outputs": [],
   "source": [
    "writer = pd.ExcelWriter('output/output.xlsx')\n",
    "df1.to_excel(writer,'Sheet1')\n",
    "df2.to_excel(writer,'Sheet2')\n",
    "writer.save()"
   ]
  },
  {
   "cell_type": "markdown",
   "metadata": {},
   "source": [
    "### <center> Зависимоть амплитуды от расхода"
   ]
  },
  {
   "cell_type": "code",
   "execution_count": 34,
   "metadata": {},
   "outputs": [
    {
     "data": {
      "image/png": "[encoded data removed]",
      "text/plain": [
       "<matplotlib.figure.Figure at 0x7fe85d7ddd68>"
      ]
     },
     "metadata": {},
     "output_type": "display_data"
    }
   ],
   "source": [
    "x, y = [],[]\n",
    "for i in I_dict:\n",
    "    y.append(i)\n",
    "    x.append(I_dict[i])\n",
    "\n",
    "fig, ax = plt.subplots(1,1, figsize = (5,5))\n",
    "x_intr = np.linspace(min(x), max(x), 100)\n",
    "f2 = interp1d(x, y, kind='cubic')\n",
    "ax.scatter(x,y, color='blue')\n",
    "ax.plot(x_intr,f2(x_intr), color='cyan')\n",
    "ax.set_xlabel('Расход, мл/с')\n",
    "ax.set_ylabel('U_sc, В')\n",
    "fig.savefig('output/Usc от расхода.png');"
   ]
  },
  {
   "cell_type": "markdown",
   "metadata": {},
   "source": [
    "### <center> Зависимости амплитуды от амплитуды напряжения нутации"
   ]
  },
  {
   "cell_type": "code",
   "execution_count": 35,
   "metadata": {},
   "outputs": [
    {
     "data": {
      "image/png": "[encoded data removed]",
      "text/plain": [
       "<matplotlib.figure.Figure at 0x7fe85d8034e0>"
      ]
     },
     "metadata": {},
     "output_type": "display_data"
    }
   ],
   "source": [
    "fig, ax = plt.subplots(1,1, figsize=(5,5))\n",
    "\n",
    "for l in II_dict:\n",
    "    x = II_dict[l][0]\n",
    "    y = II_dict[l][1]\n",
    "    ax.scatter(x, y)\n",
    "    ax.plot(x, y, label=str(int(I_dict[float(l)]))+', мл/с')\n",
    "ax.legend()\n",
    "ax.set_xlabel('U_nut, B')\n",
    "ax.set_ylabel('U_sc, B')\n",
    "fig.savefig('output/Usc от U_nut для разных расходов.png');"
   ]
  }
 ],
 "metadata": {
  "kernelspec": {
   "display_name": "Python 3",
   "language": "python",
   "name": "python3"
  },
  "language_info": {
   "codemirror_mode": {
    "name": "ipython",
    "version": 3
   },
   "file_extension": ".py",
   "mimetype": "text/x-python",
   "name": "python",
   "nbconvert_exporter": "python",
   "pygments_lexer": "ipython3",
   "version": "3.5.2"
  }
 },
 "nbformat": 4,
 "nbformat_minor": 2
}
